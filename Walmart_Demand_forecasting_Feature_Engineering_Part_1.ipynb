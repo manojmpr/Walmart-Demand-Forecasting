{
  "cells": [
    {
      "cell_type": "code",
      "execution_count": null,
      "id": "bd83b59a",
      "metadata": {
        "id": "bd83b59a",
        "outputId": "8b39b4a1-a1d7-4650-96e4-9c8ca80880a4"
      },
      "outputs": [
        {
          "name": "stderr",
          "output_type": "stream",
          "text": [
            "UsageError: Line magic function `%%time` not found.\n"
          ]
        }
      ],
      "source": [
        "import pandas as pd\n",
        "import numpy as np\n",
        "import seaborn as sns\n",
        "import matplotlib.pyplot as plt\n",
        "from sklearn.cluster import KMeans\n",
        "import multiprocessing as mp\n",
        "import gc\n",
        "import datetime\n",
        "from sklearn.preprocessing import LabelEncoder\n",
        "import calendar\n",
        "from scipy.sparse import csr_matrix,hstack\n",
        "#import tensorflow as tf\n",
        "from sklearn.linear_model import LinearRegression\n",
        "from sklearn.feature_extraction.text import CountVectorizer\n",
        "from sklearn.metrics import mean_squared_error\n",
        "from lightgbm import LGBMRegressor\n",
        "from tqdm import tqdm\n",
        "import pickle\n",
        "\n",
        "#Reading up the dataframes\n",
        "train=pd.read_csv('final_dataframe.csv')\n",
        "test=pd.read_csv('final_dataframe_test.csv')\n",
        "final_test=pd.read_csv('final_future_data.csv')\n",
        "\n",
        "lbl=LabelEncoder()\n",
        "train['item_id']=lbl.fit_transform(train['item_id'])\n",
        "test['item_id']=lbl.transform(test['item_id'])\n",
        "final_test['item_id']=lbl.transform(final_test['item_id'])\n",
        "pickle.dump(lbl,open('label_encoder_item_id.sav','wb'))\n",
        "\n",
        "lbl=LabelEncoder()\n",
        "train['dept_id']=lbl.fit_transform(train['dept_id'])\n",
        "test['dept_id']=lbl.transform(test['dept_id'])\n",
        "final_test['dept_id']=lbl.transform(final_test['dept_id'])\n",
        "pickle.dump(lbl,open('label_encoder_dept_id.sav','wb'))\n",
        "\n",
        "lbl=LabelEncoder()\n",
        "train['cat_id']=lbl.fit_transform(train['cat_id'])\n",
        "test['cat_id']=lbl.transform(test['cat_id'])\n",
        "final_test['cat_id']=lbl.transform(final_test['cat_id'])\n",
        "pickle.dump(lbl,open('label_encoder_cat_id.sav','wb'))\n",
        "\n",
        "lbl=LabelEncoder()\n",
        "train['store_id']=lbl.fit_transform(train['store_id'])\n",
        "test['store_id']=lbl.transform(test['store_id'])\n",
        "final_test['store_id']=lbl.transform(final_test['store_id'])\n",
        "pickle.dump(lbl,open('label_encoder_store_id.sav','wb'))\n",
        "\n",
        "lbl=LabelEncoder()\n",
        "train['state_id']=lbl.fit_transform(train['state_id'])\n",
        "test['state_id']=lbl.transform(test['state_id'])\n",
        "final_test['state_id']=lbl.transform(final_test['state_id'])\n",
        "pickle.dump(lbl,open('label_encoder_state_id.sav','wb'))\n",
        "\n",
        "lbl=LabelEncoder()\n",
        "train['event_name_1']=lbl.fit_transform(train['event_name_1'])\n",
        "test['event_name_1']=lbl.transform(test['event_name_1'])\n",
        "final_test['event_name_1']=lbl.transform(final_test['event_name_1'])\n",
        "pickle.dump(lbl,open('label_encoder_event_name_1.sav','wb'))\n",
        "\n",
        "lbl=LabelEncoder()\n",
        "train['event_name_2']=lbl.fit_transform(train['event_name_2'])\n",
        "test['event_name_2']=lbl.transform(test['event_name_2'])\n",
        "final_test['event_name_2']=lbl.transform(final_test['event_name_2'])\n",
        "pickle.dump(lbl,open('label_encoder_event_name_2.sav','wb'))\n",
        "\n",
        "lbl=LabelEncoder()\n",
        "train['event_type_1']=lbl.fit_transform(train['event_type_1'])\n",
        "test['event_type_1']=lbl.transform(test['event_type_1'])\n",
        "final_test['event_type_1']=lbl.transform(final_test['event_type_1'])\n",
        "pickle.dump(lbl,open('label_encoder_event_type_1.sav','wb'))\n",
        "\n",
        "lbl=LabelEncoder()\n",
        "train['event_type_2']=lbl.fit_transform(train['event_type_2'])\n",
        "test['event_type_2']=lbl.transform(test['event_type_2'])\n",
        "final_test['event_type_2']=lbl.transform(final_test['event_type_2'])\n",
        "pickle.dump(lbl,open('label_encoder_event_type_2.sav','wb'))\n",
        "\n",
        "lbl=LabelEncoder()\n",
        "train['year']=lbl.fit_transform(train['year'])\n",
        "test['year']=lbl.transform(test['year'])\n",
        "final_test['year']=lbl.transform(final_test['year'])\n",
        "pickle.dump(lbl,open('label_encoder_year.sav','wb'))\n",
        "\n",
        "%%time\n",
        "# Converting snap_CA,snap_WI,snap_TX into one feature named snap\n",
        "train.loc[train['state_id'] == 'CA', 'snap'] = train.loc[train['state_id'] == 'CA']['snap_CA']\n",
        "train.loc[train['state_id'] == 'TX', 'snap'] = train.loc[train['state_id'] == 'TX']['snap_TX']\n",
        "train.loc[train['state_id'] == 'WI', 'snap'] = train.loc[train['state_id'] == 'WI']['snap_WI']\n",
        "train.drop(['snap_CA','snap_TX','snap_WI'],axis=1,inplace=True)\n",
        "\n",
        "\n",
        "test.loc[test['state_id'] == 'CA', 'snap'] = test.loc[test['state_id'] == 'CA']['snap_CA']\n",
        "test.loc[test['state_id'] == 'TX', 'snap'] = test.loc[test['state_id'] == 'TX']['snap_TX']\n",
        "test.loc[test['state_id'] == 'WI', 'snap'] = test.loc[test['state_id'] == 'WI']['snap_WI']\n",
        "test.drop(['snap_CA','snap_TX','snap_WI'],axis=1,inplace=True)\n",
        "\n",
        "final_test.loc[final_test['state_id'] == 'CA', 'snap'] = final_test.loc[final_test['state_id'] == 'CA']['snap_CA']\n",
        "final_test.loc[final_test['state_id'] == 'TX', 'snap'] = final_test.loc[final_test['state_id'] == 'TX']['snap_TX']\n",
        "final_test.loc[final_test['state_id'] == 'WI', 'snap'] = final_test.loc[final_test['state_id'] == 'WI']['snap_WI']\n",
        "final_test.drop(['snap_CA','snap_TX','snap_WI'],axis=1,inplace=True)"
      ]
    },
    {
      "cell_type": "code",
      "execution_count": null,
      "id": "2e7bcacc",
      "metadata": {
        "id": "2e7bcacc",
        "outputId": "1df26b42-03c5-4e7e-a979-66a6df7358a8"
      },
      "outputs": [
        {
          "name": "stdout",
          "output_type": "stream",
          "text": [
            "Wall time: 6.82 s\n"
          ]
        }
      ],
      "source": [
        "%%time\n",
        "# Weekday as wday are similar features so we remove it\n",
        "#I will make no use of  wm_yr_wk feature\n",
        "train.drop('weekday',axis=1,inplace=True)\n",
        "train.drop('wm_yr_wk',axis=1,inplace=True)\n",
        " \n",
        "test.drop('weekday',axis=1,inplace=True)\n",
        "test.drop('wm_yr_wk',axis=1,inplace=True)\n",
        "\n",
        "final_test.drop('weekday',axis=1,inplace=True)\n",
        "final_test.drop('wm_yr_wk',axis=1,inplace=True)"
      ]
    },
    {
      "cell_type": "markdown",
      "id": "f9524468",
      "metadata": {
        "id": "f9524468"
      },
      "source": [
        "## Date related features"
      ]
    },
    {
      "cell_type": "markdown",
      "id": "cbc7479e",
      "metadata": {
        "id": "cbc7479e"
      },
      "source": [
        "### Week Number"
      ]
    },
    {
      "cell_type": "code",
      "execution_count": null,
      "id": "5096e3cb",
      "metadata": {
        "id": "5096e3cb"
      },
      "outputs": [],
      "source": [
        "#Reference https://stackoverflow.com/questions/2600775/how-to-get-week-number-in-python/32638267#:~:text=()%5B1%5D%2024-,datetime.,for%20the%20given%20date%20instance.&text=You%20can%20get%20the%20week%20number%20directly%20from%20datetime%20as%20string.\n",
        "def get_week_number(x):\n",
        "    \"\"\"This Function is used to get weeknumber of particular date\"\"\"\n",
        "    date=calendar.datetime.date.fromisoformat(x)\n",
        "    return date.isocalendar()[1]"
      ]
    },
    {
      "cell_type": "code",
      "execution_count": null,
      "id": "98c09211",
      "metadata": {
        "id": "98c09211"
      },
      "outputs": [],
      "source": [
        "train['week_number']=train['date'].apply(lambda x:get_week_number(x))\n",
        "test['week_number']=test['date'].apply(lambda x:get_week_number(x))\n",
        "final_test['week_number']=final_test['date'].apply(lambda x:get_week_number(x))"
      ]
    },
    {
      "cell_type": "markdown",
      "id": "4a972df8",
      "metadata": {
        "id": "4a972df8"
      },
      "source": [
        "### Season"
      ]
    },
    {
      "cell_type": "code",
      "execution_count": null,
      "id": "e3a683a1",
      "metadata": {
        "id": "e3a683a1"
      },
      "outputs": [],
      "source": [
        "#https://www.universaltraveller.com.au/destinations/los-angeles/weather\n",
        "def get_season(x):\n",
        "    \"\"\"This function is used to get season in US according to various months\"\"\"\n",
        "    if x in [12,1,2]:\n",
        "        return 0      #\"Winter\"\n",
        "    elif x in [3,4,5]:\n",
        "        return 1   #\"Spring\"\n",
        "    elif x in [6,7,8]:\n",
        "        return 2   #\"Summer\"\n",
        "    else:\n",
        "        return 3   #\"Autumn\""
      ]
    },
    {
      "cell_type": "code",
      "execution_count": null,
      "id": "27c4ca48",
      "metadata": {
        "id": "27c4ca48"
      },
      "outputs": [],
      "source": [
        "train['season']=train['month'].apply(lambda x:get_season(x))\n",
        "test['season']=test['month'].apply(lambda x:get_season(x))\n",
        "final_test['season']=final_test['month'].apply(lambda x:get_season(x))"
      ]
    },
    {
      "cell_type": "markdown",
      "id": "72e26f31",
      "metadata": {
        "id": "72e26f31"
      },
      "source": [
        "### Quarter start"
      ]
    },
    {
      "cell_type": "code",
      "execution_count": null,
      "id": "324b692e",
      "metadata": {
        "id": "324b692e"
      },
      "outputs": [],
      "source": [
        "def check_if_quater_begin(x):\n",
        "    \"\"\"This is used to check if day is begining of quater\"\"\"\n",
        "    day=calendar.datetime.date.fromisoformat(x).day\n",
        "    month=calendar.datetime.date.fromisoformat(x).month\n",
        "    return 1 if (day==1 and (month in [1,4,7,9])) else 0"
      ]
    },
    {
      "cell_type": "code",
      "execution_count": null,
      "id": "bfbb20e2",
      "metadata": {
        "id": "bfbb20e2"
      },
      "outputs": [],
      "source": [
        "train['quater_start']=train['date'].apply(lambda x:check_if_quater_begin(x))\n",
        "test['quater_start']=test['date'].apply(lambda x:check_if_quater_begin(x))\n",
        "final_test['quater_start']=final_test['date'].apply(lambda x:check_if_quater_begin(x))"
      ]
    },
    {
      "cell_type": "markdown",
      "id": "d8f921d6",
      "metadata": {
        "id": "d8f921d6"
      },
      "source": [
        "### Quarter end"
      ]
    },
    {
      "cell_type": "code",
      "execution_count": null,
      "id": "d74c733c",
      "metadata": {
        "id": "d74c733c"
      },
      "outputs": [],
      "source": [
        "#Reference https://www.lawinsider.com/dictionary/quarter-end\n",
        "def check_if_quater_end(x):\n",
        "    \"\"\"This is used to check if day is end of quater\"\"\"\n",
        "    day=calendar.datetime.date.fromisoformat(x).day\n",
        "    month=calendar.datetime.date.fromisoformat(x).month\n",
        "    if (day==31 and month==3) or (day==30 and month==6) or (day==30 and month==9) or (day==31 and month==12):\n",
        "        return 1\n",
        "    else:\n",
        "        return 0"
      ]
    },
    {
      "cell_type": "code",
      "execution_count": null,
      "id": "8530de34",
      "metadata": {
        "id": "8530de34"
      },
      "outputs": [],
      "source": [
        "train['quater_end']=train['date'].apply(lambda x:check_if_quater_end(x))\n",
        "test['quater_end']=test['date'].apply(lambda x:check_if_quater_end(x))\n",
        "final_test['quater_end']=final_test['date'].apply(lambda x:check_if_quater_end(x))"
      ]
    },
    {
      "cell_type": "markdown",
      "id": "dd7dde93",
      "metadata": {
        "id": "dd7dde93"
      },
      "source": [
        "### Month start"
      ]
    },
    {
      "cell_type": "code",
      "execution_count": null,
      "id": "67a8ec20",
      "metadata": {
        "id": "67a8ec20"
      },
      "outputs": [],
      "source": [
        "def month_start(x):\n",
        "    \"\"\"This is used to check if day is begining of month\"\"\"\n",
        "    day=calendar.datetime.date.fromisoformat(x).day\n",
        "    return 1 if day==1 else 0"
      ]
    },
    {
      "cell_type": "code",
      "execution_count": null,
      "id": "1c2c8b3c",
      "metadata": {
        "id": "1c2c8b3c"
      },
      "outputs": [],
      "source": [
        "train['month_start']=train['date'].apply(lambda x:month_start(x))\n",
        "test['month_start']=test['date'].apply(lambda x:month_start(x))\n",
        "final_test['month_start']=final_test['date'].apply(lambda x:month_start(x))"
      ]
    },
    {
      "cell_type": "markdown",
      "id": "384dc25e",
      "metadata": {
        "id": "384dc25e"
      },
      "source": [
        "### Month End"
      ]
    },
    {
      "cell_type": "code",
      "execution_count": null,
      "id": "0496a85d",
      "metadata": {
        "id": "0496a85d"
      },
      "outputs": [],
      "source": [
        "def month_end(x):\n",
        "    \"\"\"This is used to check if day is end of month\"\"\"\n",
        "    day=calendar.datetime.date.fromisoformat(x).day\n",
        "    month=calendar.datetime.date.fromisoformat(x).month\n",
        "    year=calendar.datetime.date.fromisoformat(x).year\n",
        "    leap_yr=(year%4==0) # to check if it is a leap year\n",
        "    val=(day==31 and month==1) or (day==29 if leap_yr else day==28) or (day==31 and month==3) or (day==30 and month==4) or\\\n",
        "        (day==31 and month==5) or (day==30 and month==6) or (day==31 and month==7) or (day==31 and month==8) or\\\n",
        "        (day==30 and month==9) or (day==31 and month==10) or (day==30 and month==11) or (day==31 and month==12)\n",
        "    return 1 if val else 0"
      ]
    },
    {
      "cell_type": "code",
      "execution_count": null,
      "id": "c6115641",
      "metadata": {
        "id": "c6115641"
      },
      "outputs": [],
      "source": [
        "train['month_end']=train['date'].apply(lambda x:month_end(x))\n",
        "test['month_end']=test['date'].apply(lambda x:month_end(x))\n",
        "final_test['month_end']=final_test['date'].apply(lambda x:month_end(x))"
      ]
    },
    {
      "cell_type": "markdown",
      "id": "bedcb386",
      "metadata": {
        "id": "bedcb386"
      },
      "source": [
        "### Year start"
      ]
    },
    {
      "cell_type": "code",
      "execution_count": null,
      "id": "9ee079bd",
      "metadata": {
        "id": "9ee079bd"
      },
      "outputs": [],
      "source": [
        "def year_start(x):\n",
        "    \"\"\"This is used to check if day is begining of year\"\"\"\n",
        "    day=calendar.datetime.date.fromisoformat(x).day\n",
        "    month=calendar.datetime.date.fromisoformat(x).month\n",
        "    return 1 if (day==1 and month==1) else 0"
      ]
    },
    {
      "cell_type": "code",
      "execution_count": null,
      "id": "4ed96fec",
      "metadata": {
        "id": "4ed96fec"
      },
      "outputs": [],
      "source": [
        "train['year_start']=train['date'].apply(lambda x:year_start(x))\n",
        "test['year_start']=test['date'].apply(lambda x:year_start(x))\n",
        "final_test['year_start']=final_test['date'].apply(lambda x:year_start(x))"
      ]
    },
    {
      "cell_type": "markdown",
      "id": "508d18f4",
      "metadata": {
        "id": "508d18f4"
      },
      "source": [
        "### Year End"
      ]
    },
    {
      "cell_type": "code",
      "execution_count": null,
      "id": "f663e3a9",
      "metadata": {
        "id": "f663e3a9"
      },
      "outputs": [],
      "source": [
        "def year_end(x):\n",
        "    \"\"\"This is used to check if day is end of year\"\"\"\n",
        "    day=calendar.datetime.date.fromisoformat(x).day\n",
        "    month=calendar.datetime.date.fromisoformat(x).month\n",
        "    return 1 if (day==31 and month==12) else 0"
      ]
    },
    {
      "cell_type": "code",
      "execution_count": null,
      "id": "91a12e93",
      "metadata": {
        "id": "91a12e93"
      },
      "outputs": [],
      "source": [
        "\n",
        "train['year_end']=train['date'].apply(lambda x:year_end(x))\n",
        "test['year_end']=test['date'].apply(lambda x:year_end(x))\n",
        "final_test['year_end']=final_test['date'].apply(lambda x:year_end(x))"
      ]
    },
    {
      "cell_type": "markdown",
      "id": "67797557",
      "metadata": {
        "id": "67797557"
      },
      "source": [
        "### Taking Last 28 days from train for CrossValidation "
      ]
    },
    {
      "cell_type": "code",
      "execution_count": null,
      "id": "adc03809",
      "metadata": {
        "id": "adc03809"
      },
      "outputs": [],
      "source": [
        "#Cross Validation data will be used for hyperparameter tuning\n",
        "cv=train[train['date']>='2016-03-28']\n",
        "train=train[train['date']<'2016-03-28']"
      ]
    },
    {
      "cell_type": "code",
      "execution_count": null,
      "id": "3e20653b",
      "metadata": {
        "id": "3e20653b"
      },
      "outputs": [],
      "source": [
        "test.to_csv('test.csv',index=False)"
      ]
    },
    {
      "cell_type": "code",
      "execution_count": null,
      "id": "899d0e20",
      "metadata": {
        "id": "899d0e20"
      },
      "outputs": [],
      "source": [
        "train.to_csv('train.csv',index=False)"
      ]
    },
    {
      "cell_type": "code",
      "execution_count": null,
      "id": "f07aa5fa",
      "metadata": {
        "id": "f07aa5fa",
        "outputId": "e93f1b23-0c26-4e86-dc54-c4b1ec6b0e5b"
      },
      "outputs": [
        {
          "data": {
            "text/plain": [
              "(45174237, 28)"
            ]
          },
          "execution_count": 29,
          "metadata": {},
          "output_type": "execute_result"
        }
      ],
      "source": [
        "train.shape"
      ]
    },
    {
      "cell_type": "code",
      "execution_count": null,
      "id": "cf2a5ecd",
      "metadata": {
        "id": "cf2a5ecd"
      },
      "outputs": [],
      "source": [
        "final_test.to_csv('final_test.csv',index=False)"
      ]
    },
    {
      "cell_type": "code",
      "execution_count": null,
      "id": "61bff4de",
      "metadata": {
        "id": "61bff4de",
        "outputId": "6c68ff71-5449-4bde-cf9e-9ee69b4db826"
      },
      "outputs": [
        {
          "data": {
            "text/html": [
              "<div>\n",
              "<style scoped>\n",
              "    .dataframe tbody tr th:only-of-type {\n",
              "        vertical-align: middle;\n",
              "    }\n",
              "\n",
              "    .dataframe tbody tr th {\n",
              "        vertical-align: top;\n",
              "    }\n",
              "\n",
              "    .dataframe thead th {\n",
              "        text-align: right;\n",
              "    }\n",
              "</style>\n",
              "<table border=\"1\" class=\"dataframe\">\n",
              "  <thead>\n",
              "    <tr style=\"text-align: right;\">\n",
              "      <th></th>\n",
              "      <th>id</th>\n",
              "      <th>item_id</th>\n",
              "      <th>dept_id</th>\n",
              "      <th>cat_id</th>\n",
              "      <th>store_id</th>\n",
              "      <th>state_id</th>\n",
              "      <th>d</th>\n",
              "      <th>sales</th>\n",
              "      <th>date</th>\n",
              "      <th>wday</th>\n",
              "      <th>...</th>\n",
              "      <th>snap_WI</th>\n",
              "      <th>sell_price</th>\n",
              "      <th>week_number</th>\n",
              "      <th>season</th>\n",
              "      <th>quater_start</th>\n",
              "      <th>quater_end</th>\n",
              "      <th>month_start</th>\n",
              "      <th>month_end</th>\n",
              "      <th>year_start</th>\n",
              "      <th>year_end</th>\n",
              "    </tr>\n",
              "  </thead>\n",
              "  <tbody>\n",
              "    <tr>\n",
              "      <th>0</th>\n",
              "      <td>HOBBIES_1_001_CA_1_evaluation</td>\n",
              "      <td>1437</td>\n",
              "      <td>3</td>\n",
              "      <td>1</td>\n",
              "      <td>0</td>\n",
              "      <td>0</td>\n",
              "      <td>d_1942</td>\n",
              "      <td>0</td>\n",
              "      <td>2016-05-23</td>\n",
              "      <td>3</td>\n",
              "      <td>...</td>\n",
              "      <td>0</td>\n",
              "      <td>8.38</td>\n",
              "      <td>21</td>\n",
              "      <td>1</td>\n",
              "      <td>0</td>\n",
              "      <td>0</td>\n",
              "      <td>0</td>\n",
              "      <td>0</td>\n",
              "      <td>0</td>\n",
              "      <td>0</td>\n",
              "    </tr>\n",
              "    <tr>\n",
              "      <th>1</th>\n",
              "      <td>HOBBIES_1_001_CA_1_evaluation</td>\n",
              "      <td>1437</td>\n",
              "      <td>3</td>\n",
              "      <td>1</td>\n",
              "      <td>0</td>\n",
              "      <td>0</td>\n",
              "      <td>d_1943</td>\n",
              "      <td>0</td>\n",
              "      <td>2016-05-24</td>\n",
              "      <td>4</td>\n",
              "      <td>...</td>\n",
              "      <td>0</td>\n",
              "      <td>8.38</td>\n",
              "      <td>21</td>\n",
              "      <td>1</td>\n",
              "      <td>0</td>\n",
              "      <td>0</td>\n",
              "      <td>0</td>\n",
              "      <td>0</td>\n",
              "      <td>0</td>\n",
              "      <td>0</td>\n",
              "    </tr>\n",
              "    <tr>\n",
              "      <th>2</th>\n",
              "      <td>HOBBIES_1_001_CA_1_evaluation</td>\n",
              "      <td>1437</td>\n",
              "      <td>3</td>\n",
              "      <td>1</td>\n",
              "      <td>0</td>\n",
              "      <td>0</td>\n",
              "      <td>d_1944</td>\n",
              "      <td>0</td>\n",
              "      <td>2016-05-25</td>\n",
              "      <td>5</td>\n",
              "      <td>...</td>\n",
              "      <td>0</td>\n",
              "      <td>8.38</td>\n",
              "      <td>21</td>\n",
              "      <td>1</td>\n",
              "      <td>0</td>\n",
              "      <td>0</td>\n",
              "      <td>0</td>\n",
              "      <td>0</td>\n",
              "      <td>0</td>\n",
              "      <td>0</td>\n",
              "    </tr>\n",
              "    <tr>\n",
              "      <th>3</th>\n",
              "      <td>HOBBIES_1_001_CA_1_evaluation</td>\n",
              "      <td>1437</td>\n",
              "      <td>3</td>\n",
              "      <td>1</td>\n",
              "      <td>0</td>\n",
              "      <td>0</td>\n",
              "      <td>d_1945</td>\n",
              "      <td>0</td>\n",
              "      <td>2016-05-26</td>\n",
              "      <td>6</td>\n",
              "      <td>...</td>\n",
              "      <td>0</td>\n",
              "      <td>8.38</td>\n",
              "      <td>21</td>\n",
              "      <td>1</td>\n",
              "      <td>0</td>\n",
              "      <td>0</td>\n",
              "      <td>0</td>\n",
              "      <td>0</td>\n",
              "      <td>0</td>\n",
              "      <td>0</td>\n",
              "    </tr>\n",
              "    <tr>\n",
              "      <th>4</th>\n",
              "      <td>HOBBIES_1_001_CA_1_evaluation</td>\n",
              "      <td>1437</td>\n",
              "      <td>3</td>\n",
              "      <td>1</td>\n",
              "      <td>0</td>\n",
              "      <td>0</td>\n",
              "      <td>d_1946</td>\n",
              "      <td>0</td>\n",
              "      <td>2016-05-27</td>\n",
              "      <td>7</td>\n",
              "      <td>...</td>\n",
              "      <td>0</td>\n",
              "      <td>8.38</td>\n",
              "      <td>21</td>\n",
              "      <td>1</td>\n",
              "      <td>0</td>\n",
              "      <td>0</td>\n",
              "      <td>0</td>\n",
              "      <td>0</td>\n",
              "      <td>0</td>\n",
              "      <td>0</td>\n",
              "    </tr>\n",
              "    <tr>\n",
              "      <th>...</th>\n",
              "      <td>...</td>\n",
              "      <td>...</td>\n",
              "      <td>...</td>\n",
              "      <td>...</td>\n",
              "      <td>...</td>\n",
              "      <td>...</td>\n",
              "      <td>...</td>\n",
              "      <td>...</td>\n",
              "      <td>...</td>\n",
              "      <td>...</td>\n",
              "      <td>...</td>\n",
              "      <td>...</td>\n",
              "      <td>...</td>\n",
              "      <td>...</td>\n",
              "      <td>...</td>\n",
              "      <td>...</td>\n",
              "      <td>...</td>\n",
              "      <td>...</td>\n",
              "      <td>...</td>\n",
              "      <td>...</td>\n",
              "      <td>...</td>\n",
              "    </tr>\n",
              "    <tr>\n",
              "      <th>853715</th>\n",
              "      <td>FOODS_3_825_WI_3_evaluation</td>\n",
              "      <td>1434</td>\n",
              "      <td>2</td>\n",
              "      <td>0</td>\n",
              "      <td>9</td>\n",
              "      <td>2</td>\n",
              "      <td>d_1969</td>\n",
              "      <td>0</td>\n",
              "      <td>2016-06-19</td>\n",
              "      <td>2</td>\n",
              "      <td>...</td>\n",
              "      <td>0</td>\n",
              "      <td>3.98</td>\n",
              "      <td>24</td>\n",
              "      <td>2</td>\n",
              "      <td>0</td>\n",
              "      <td>0</td>\n",
              "      <td>0</td>\n",
              "      <td>0</td>\n",
              "      <td>0</td>\n",
              "      <td>0</td>\n",
              "    </tr>\n",
              "    <tr>\n",
              "      <th>853716</th>\n",
              "      <td>FOODS_3_826_WI_3_evaluation</td>\n",
              "      <td>1435</td>\n",
              "      <td>2</td>\n",
              "      <td>0</td>\n",
              "      <td>9</td>\n",
              "      <td>2</td>\n",
              "      <td>d_1968</td>\n",
              "      <td>0</td>\n",
              "      <td>2016-06-18</td>\n",
              "      <td>1</td>\n",
              "      <td>...</td>\n",
              "      <td>0</td>\n",
              "      <td>1.28</td>\n",
              "      <td>24</td>\n",
              "      <td>2</td>\n",
              "      <td>0</td>\n",
              "      <td>0</td>\n",
              "      <td>0</td>\n",
              "      <td>0</td>\n",
              "      <td>0</td>\n",
              "      <td>0</td>\n",
              "    </tr>\n",
              "    <tr>\n",
              "      <th>853717</th>\n",
              "      <td>FOODS_3_826_WI_3_evaluation</td>\n",
              "      <td>1435</td>\n",
              "      <td>2</td>\n",
              "      <td>0</td>\n",
              "      <td>9</td>\n",
              "      <td>2</td>\n",
              "      <td>d_1969</td>\n",
              "      <td>0</td>\n",
              "      <td>2016-06-19</td>\n",
              "      <td>2</td>\n",
              "      <td>...</td>\n",
              "      <td>0</td>\n",
              "      <td>1.28</td>\n",
              "      <td>24</td>\n",
              "      <td>2</td>\n",
              "      <td>0</td>\n",
              "      <td>0</td>\n",
              "      <td>0</td>\n",
              "      <td>0</td>\n",
              "      <td>0</td>\n",
              "      <td>0</td>\n",
              "    </tr>\n",
              "    <tr>\n",
              "      <th>853718</th>\n",
              "      <td>FOODS_3_827_WI_3_evaluation</td>\n",
              "      <td>1436</td>\n",
              "      <td>2</td>\n",
              "      <td>0</td>\n",
              "      <td>9</td>\n",
              "      <td>2</td>\n",
              "      <td>d_1968</td>\n",
              "      <td>0</td>\n",
              "      <td>2016-06-18</td>\n",
              "      <td>1</td>\n",
              "      <td>...</td>\n",
              "      <td>0</td>\n",
              "      <td>1.00</td>\n",
              "      <td>24</td>\n",
              "      <td>2</td>\n",
              "      <td>0</td>\n",
              "      <td>0</td>\n",
              "      <td>0</td>\n",
              "      <td>0</td>\n",
              "      <td>0</td>\n",
              "      <td>0</td>\n",
              "    </tr>\n",
              "    <tr>\n",
              "      <th>853719</th>\n",
              "      <td>FOODS_3_827_WI_3_evaluation</td>\n",
              "      <td>1436</td>\n",
              "      <td>2</td>\n",
              "      <td>0</td>\n",
              "      <td>9</td>\n",
              "      <td>2</td>\n",
              "      <td>d_1969</td>\n",
              "      <td>0</td>\n",
              "      <td>2016-06-19</td>\n",
              "      <td>2</td>\n",
              "      <td>...</td>\n",
              "      <td>0</td>\n",
              "      <td>1.00</td>\n",
              "      <td>24</td>\n",
              "      <td>2</td>\n",
              "      <td>0</td>\n",
              "      <td>0</td>\n",
              "      <td>0</td>\n",
              "      <td>0</td>\n",
              "      <td>0</td>\n",
              "      <td>0</td>\n",
              "    </tr>\n",
              "  </tbody>\n",
              "</table>\n",
              "<p>853720 rows × 28 columns</p>\n",
              "</div>"
            ],
            "text/plain": [
              "                                   id  item_id  dept_id  cat_id  store_id  \\\n",
              "0       HOBBIES_1_001_CA_1_evaluation     1437        3       1         0   \n",
              "1       HOBBIES_1_001_CA_1_evaluation     1437        3       1         0   \n",
              "2       HOBBIES_1_001_CA_1_evaluation     1437        3       1         0   \n",
              "3       HOBBIES_1_001_CA_1_evaluation     1437        3       1         0   \n",
              "4       HOBBIES_1_001_CA_1_evaluation     1437        3       1         0   \n",
              "...                               ...      ...      ...     ...       ...   \n",
              "853715    FOODS_3_825_WI_3_evaluation     1434        2       0         9   \n",
              "853716    FOODS_3_826_WI_3_evaluation     1435        2       0         9   \n",
              "853717    FOODS_3_826_WI_3_evaluation     1435        2       0         9   \n",
              "853718    FOODS_3_827_WI_3_evaluation     1436        2       0         9   \n",
              "853719    FOODS_3_827_WI_3_evaluation     1436        2       0         9   \n",
              "\n",
              "        state_id       d  sales        date  wday  ...  snap_WI  sell_price  \\\n",
              "0              0  d_1942      0  2016-05-23     3  ...        0        8.38   \n",
              "1              0  d_1943      0  2016-05-24     4  ...        0        8.38   \n",
              "2              0  d_1944      0  2016-05-25     5  ...        0        8.38   \n",
              "3              0  d_1945      0  2016-05-26     6  ...        0        8.38   \n",
              "4              0  d_1946      0  2016-05-27     7  ...        0        8.38   \n",
              "...          ...     ...    ...         ...   ...  ...      ...         ...   \n",
              "853715         2  d_1969      0  2016-06-19     2  ...        0        3.98   \n",
              "853716         2  d_1968      0  2016-06-18     1  ...        0        1.28   \n",
              "853717         2  d_1969      0  2016-06-19     2  ...        0        1.28   \n",
              "853718         2  d_1968      0  2016-06-18     1  ...        0        1.00   \n",
              "853719         2  d_1969      0  2016-06-19     2  ...        0        1.00   \n",
              "\n",
              "        week_number  season  quater_start  quater_end  month_start  month_end  \\\n",
              "0                21       1             0           0            0          0   \n",
              "1                21       1             0           0            0          0   \n",
              "2                21       1             0           0            0          0   \n",
              "3                21       1             0           0            0          0   \n",
              "4                21       1             0           0            0          0   \n",
              "...             ...     ...           ...         ...          ...        ...   \n",
              "853715           24       2             0           0            0          0   \n",
              "853716           24       2             0           0            0          0   \n",
              "853717           24       2             0           0            0          0   \n",
              "853718           24       2             0           0            0          0   \n",
              "853719           24       2             0           0            0          0   \n",
              "\n",
              "        year_start  year_end  \n",
              "0                0         0  \n",
              "1                0         0  \n",
              "2                0         0  \n",
              "3                0         0  \n",
              "4                0         0  \n",
              "...            ...       ...  \n",
              "853715           0         0  \n",
              "853716           0         0  \n",
              "853717           0         0  \n",
              "853718           0         0  \n",
              "853719           0         0  \n",
              "\n",
              "[853720 rows x 28 columns]"
            ]
          },
          "execution_count": 27,
          "metadata": {},
          "output_type": "execute_result"
        }
      ],
      "source": [
        "final_test"
      ]
    }
  ],
  "metadata": {
    "kernelspec": {
      "display_name": "Python 3 (ipykernel)",
      "language": "python",
      "name": "python3"
    },
    "language_info": {
      "codemirror_mode": {
        "name": "ipython",
        "version": 3
      },
      "file_extension": ".py",
      "mimetype": "text/x-python",
      "name": "python",
      "nbconvert_exporter": "python",
      "pygments_lexer": "ipython3",
      "version": "3.9.13"
    },
    "colab": {
      "provenance": []
    }
  },
  "nbformat": 4,
  "nbformat_minor": 5
}